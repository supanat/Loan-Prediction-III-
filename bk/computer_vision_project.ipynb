{
  "nbformat": 4,
  "nbformat_minor": 0,
  "metadata": {
    "colab": {
      "name": "computer vision project",
      "provenance": []
    },
    "kernelspec": {
      "name": "python3",
      "display_name": "Python 3"
    }
  },
  "cells": [
    {
      "cell_type": "code",
      "metadata": {
        "id": "7CpOpeZm5s9c",
        "colab_type": "code",
        "colab": {}
      },
      "source": [
        "import pandas as pd\n",
        "from sklearn.model_selection import train_test_split\n",
        "from sklearn.preprocessing import StandardScaler\n",
        "from sklearn.linear_model import LogisticRegression\n",
        "from sklearn.ensemble import VotingClassifier\n",
        "from sklearn.model_selection import cross_val_predict\n",
        "from sklearn.ensemble import RandomForestClassifier\n",
        "from sklearn.svm import SVC\n",
        "from sklearn.pipeline import make_pipeline\n",
        "from sklearn.model_selection import cross_val_score\n",
        "from sklearn.metrics import confusion_matrix\n",
        "from sklearn.metrics import f1_score\n",
        "from sklearn.metrics import classification_report "
      ],
      "execution_count": 0,
      "outputs": []
    },
    {
      "cell_type": "code",
      "metadata": {
        "id": "dnSlIY1f6b48",
        "colab_type": "code",
        "colab": {}
      },
      "source": [
        "df = pd.read_csv('Beans_Total.csv')"
      ],
      "execution_count": 0,
      "outputs": []
    },
    {
      "cell_type": "code",
      "metadata": {
        "id": "MvZjD7hV6huH",
        "colab_type": "code",
        "outputId": "bcb9d745-6701-4224-fd81-d042b7537906",
        "colab": {
          "base_uri": "https://localhost:8080/",
          "height": 309
        }
      },
      "source": [
        "df.head(5)"
      ],
      "execution_count": 5,
      "outputs": [
        {
          "output_type": "execute_result",
          "data": {
            "text/html": [
              "<div>\n",
              "<style scoped>\n",
              "    .dataframe tbody tr th:only-of-type {\n",
              "        vertical-align: middle;\n",
              "    }\n",
              "\n",
              "    .dataframe tbody tr th {\n",
              "        vertical-align: top;\n",
              "    }\n",
              "\n",
              "    .dataframe thead th {\n",
              "        text-align: right;\n",
              "    }\n",
              "</style>\n",
              "<table border=\"1\" class=\"dataframe\">\n",
              "  <thead>\n",
              "    <tr style=\"text-align: right;\">\n",
              "      <th></th>\n",
              "      <th>No</th>\n",
              "      <th>fileName</th>\n",
              "      <th>fileName_seeds</th>\n",
              "      <th>Type</th>\n",
              "      <th>Hu_1</th>\n",
              "      <th>Hu_2</th>\n",
              "      <th>Hu_3</th>\n",
              "      <th>Hu_4</th>\n",
              "      <th>Hu_5</th>\n",
              "      <th>Hu_6</th>\n",
              "      <th>Hu_7</th>\n",
              "      <th>HRL_1</th>\n",
              "      <th>HRL_2</th>\n",
              "      <th>HRL_3</th>\n",
              "      <th>HRL_4</th>\n",
              "      <th>HRL_5</th>\n",
              "      <th>HRL_6</th>\n",
              "      <th>HRL_7</th>\n",
              "      <th>HRL_8</th>\n",
              "      <th>HRL_9</th>\n",
              "      <th>HRL_10</th>\n",
              "      <th>HRL_11</th>\n",
              "      <th>HRL_12</th>\n",
              "      <th>HRL_13</th>\n",
              "    </tr>\n",
              "  </thead>\n",
              "  <tbody>\n",
              "    <tr>\n",
              "      <th>0</th>\n",
              "      <td>1</td>\n",
              "      <td>DSC09725.JPG</td>\n",
              "      <td>66</td>\n",
              "      <td>1</td>\n",
              "      <td>0.002957</td>\n",
              "      <td>2.140000e-07</td>\n",
              "      <td>1.780000e-10</td>\n",
              "      <td>3.520000e-11</td>\n",
              "      <td>-2.570000e-21</td>\n",
              "      <td>1.620000e-14</td>\n",
              "      <td>-1.070000e-21</td>\n",
              "      <td>0.190214</td>\n",
              "      <td>65.264548</td>\n",
              "      <td>0.967536</td>\n",
              "      <td>1005.238808</td>\n",
              "      <td>0.627581</td>\n",
              "      <td>67.028161</td>\n",
              "      <td>3955.690686</td>\n",
              "      <td>4.887311</td>\n",
              "      <td>6.423181</td>\n",
              "      <td>0.002829</td>\n",
              "      <td>2.364985</td>\n",
              "      <td>-0.506230</td>\n",
              "      <td>0.993370</td>\n",
              "    </tr>\n",
              "    <tr>\n",
              "      <th>1</th>\n",
              "      <td>2</td>\n",
              "      <td>DSC09725.JPG</td>\n",
              "      <td>69</td>\n",
              "      <td>1</td>\n",
              "      <td>0.002068</td>\n",
              "      <td>3.470000e-07</td>\n",
              "      <td>2.260000e-10</td>\n",
              "      <td>6.140000e-11</td>\n",
              "      <td>6.890000e-21</td>\n",
              "      <td>3.610000e-14</td>\n",
              "      <td>-2.240000e-21</td>\n",
              "      <td>0.135258</td>\n",
              "      <td>68.647570</td>\n",
              "      <td>0.976882</td>\n",
              "      <td>1485.077360</td>\n",
              "      <td>0.593441</td>\n",
              "      <td>97.872322</td>\n",
              "      <td>5871.661870</td>\n",
              "      <td>5.070097</td>\n",
              "      <td>6.698752</td>\n",
              "      <td>0.002232</td>\n",
              "      <td>2.451770</td>\n",
              "      <td>-0.468187</td>\n",
              "      <td>0.991361</td>\n",
              "    </tr>\n",
              "    <tr>\n",
              "      <th>2</th>\n",
              "      <td>3</td>\n",
              "      <td>DSC09725.JPG</td>\n",
              "      <td>70</td>\n",
              "      <td>1</td>\n",
              "      <td>0.002632</td>\n",
              "      <td>6.810000e-07</td>\n",
              "      <td>1.320000e-10</td>\n",
              "      <td>2.650000e-11</td>\n",
              "      <td>-1.050000e-21</td>\n",
              "      <td>1.010000e-14</td>\n",
              "      <td>-1.160000e-21</td>\n",
              "      <td>0.136973</td>\n",
              "      <td>55.419592</td>\n",
              "      <td>0.973069</td>\n",
              "      <td>1029.134878</td>\n",
              "      <td>0.608767</td>\n",
              "      <td>81.162359</td>\n",
              "      <td>4061.119919</td>\n",
              "      <td>4.887796</td>\n",
              "      <td>6.438389</td>\n",
              "      <td>0.002737</td>\n",
              "      <td>2.351940</td>\n",
              "      <td>-0.469432</td>\n",
              "      <td>0.989995</td>\n",
              "    </tr>\n",
              "    <tr>\n",
              "      <th>3</th>\n",
              "      <td>4</td>\n",
              "      <td>DSC09725.JPG</td>\n",
              "      <td>71</td>\n",
              "      <td>1</td>\n",
              "      <td>0.002453</td>\n",
              "      <td>3.130000e-07</td>\n",
              "      <td>1.770000e-10</td>\n",
              "      <td>3.110000e-11</td>\n",
              "      <td>1.000000e-21</td>\n",
              "      <td>-6.960000e-15</td>\n",
              "      <td>2.080000e-21</td>\n",
              "      <td>0.170119</td>\n",
              "      <td>76.505316</td>\n",
              "      <td>0.972894</td>\n",
              "      <td>1411.343958</td>\n",
              "      <td>0.601557</td>\n",
              "      <td>83.833087</td>\n",
              "      <td>5568.870516</td>\n",
              "      <td>5.106670</td>\n",
              "      <td>6.769519</td>\n",
              "      <td>0.002326</td>\n",
              "      <td>2.534172</td>\n",
              "      <td>-0.483859</td>\n",
              "      <td>0.993133</td>\n",
              "    </tr>\n",
              "    <tr>\n",
              "      <th>4</th>\n",
              "      <td>5</td>\n",
              "      <td>DSC09725.JPG</td>\n",
              "      <td>72</td>\n",
              "      <td>1</td>\n",
              "      <td>0.002222</td>\n",
              "      <td>4.110000e-07</td>\n",
              "      <td>1.920000e-11</td>\n",
              "      <td>2.740000e-12</td>\n",
              "      <td>-2.070000e-24</td>\n",
              "      <td>2.700000e-16</td>\n",
              "      <td>1.980000e-23</td>\n",
              "      <td>0.148740</td>\n",
              "      <td>57.336303</td>\n",
              "      <td>0.979066</td>\n",
              "      <td>1369.665113</td>\n",
              "      <td>0.605767</td>\n",
              "      <td>91.741878</td>\n",
              "      <td>5421.324149</td>\n",
              "      <td>4.687771</td>\n",
              "      <td>6.258966</td>\n",
              "      <td>0.002659</td>\n",
              "      <td>2.385366</td>\n",
              "      <td>-0.444420</td>\n",
              "      <td>0.985478</td>\n",
              "    </tr>\n",
              "  </tbody>\n",
              "</table>\n",
              "</div>"
            ],
            "text/plain": [
              "   No      fileName  fileName_seeds  ...    HRL_11    HRL_12    HRL_13\n",
              "0   1  DSC09725.JPG              66  ...  2.364985 -0.506230  0.993370\n",
              "1   2  DSC09725.JPG              69  ...  2.451770 -0.468187  0.991361\n",
              "2   3  DSC09725.JPG              70  ...  2.351940 -0.469432  0.989995\n",
              "3   4  DSC09725.JPG              71  ...  2.534172 -0.483859  0.993133\n",
              "4   5  DSC09725.JPG              72  ...  2.385366 -0.444420  0.985478\n",
              "\n",
              "[5 rows x 24 columns]"
            ]
          },
          "metadata": {
            "tags": []
          },
          "execution_count": 5
        }
      ]
    },
    {
      "cell_type": "code",
      "metadata": {
        "id": "nvE9_c76ERqf",
        "colab_type": "code",
        "outputId": "7c1c3a9b-7406-47a5-ea1b-cf6433884be4",
        "colab": {
          "base_uri": "https://localhost:8080/",
          "height": 69
        }
      },
      "source": [
        "df.Type.value_counts()"
      ],
      "execution_count": 6,
      "outputs": [
        {
          "output_type": "execute_result",
          "data": {
            "text/plain": [
              "0    4533\n",
              "1    1295\n",
              "Name: Type, dtype: int64"
            ]
          },
          "metadata": {
            "tags": []
          },
          "execution_count": 6
        }
      ]
    },
    {
      "cell_type": "markdown",
      "metadata": {
        "id": "Nhw43-PDMX8h",
        "colab_type": "text"
      },
      "source": [
        "# baseline"
      ]
    },
    {
      "cell_type": "code",
      "metadata": {
        "id": "vDqzx0o3Mbst",
        "colab_type": "code",
        "outputId": "f6efeef9-4bb4-4379-9420-4c29708e4d38",
        "colab": {
          "base_uri": "https://localhost:8080/",
          "height": 193
        }
      },
      "source": [
        "df_suffle = df.sample(frac=1)\n",
        "X_b = df_suffle.iloc[:,4:].reset_index(drop = True)\n",
        "y_b = df_suffle.iloc[:,3].reset_index(drop = True)\n",
        "\n",
        "X_train_b, X_test_b, y_train_b, y_test_b = train_test_split(X_b, y_b, test_size=0.3, stratify = y_b, random_state=2019)\n",
        "\n",
        "clf_b = LogisticRegression(solver='liblinear', random_state = 2019)\n",
        "score_b = cross_val_score(clf_b, X_train_b, y_train_b, cv = 10, scoring='f1')\n",
        "print(f'Base validation f1 score: {score_b.mean():.2f}')\n",
        "\n",
        "clf_b.fit(X_train_b, y_train_b)\n",
        "train_pred_b = clf_b.predict(X_train_b)\n",
        "test_pred_b = clf_b.predict(X_test_b)\n",
        "print(f'Base f1 training score: {f1_score(y_train_b, train_pred_b):.2f}')\n",
        "print(f'Base f1 testing score: {f1_score(y_test_b, test_pred_b):.2f}')\n",
        "pd.crosstab(y_test_b, clf_b.predict(X_test_b), rownames=['Actual'], colnames=['Predicted'])"
      ],
      "execution_count": 7,
      "outputs": [
        {
          "output_type": "stream",
          "text": [
            "Base validation f1 score: 0.65\n",
            "Base f1 training score: 0.61\n",
            "Base f1 testing score: 0.60\n"
          ],
          "name": "stdout"
        },
        {
          "output_type": "execute_result",
          "data": {
            "text/html": [
              "<div>\n",
              "<style scoped>\n",
              "    .dataframe tbody tr th:only-of-type {\n",
              "        vertical-align: middle;\n",
              "    }\n",
              "\n",
              "    .dataframe tbody tr th {\n",
              "        vertical-align: top;\n",
              "    }\n",
              "\n",
              "    .dataframe thead th {\n",
              "        text-align: right;\n",
              "    }\n",
              "</style>\n",
              "<table border=\"1\" class=\"dataframe\">\n",
              "  <thead>\n",
              "    <tr style=\"text-align: right;\">\n",
              "      <th>Predicted</th>\n",
              "      <th>0</th>\n",
              "      <th>1</th>\n",
              "    </tr>\n",
              "    <tr>\n",
              "      <th>Actual</th>\n",
              "      <th></th>\n",
              "      <th></th>\n",
              "    </tr>\n",
              "  </thead>\n",
              "  <tbody>\n",
              "    <tr>\n",
              "      <th>0</th>\n",
              "      <td>1289</td>\n",
              "      <td>71</td>\n",
              "    </tr>\n",
              "    <tr>\n",
              "      <th>1</th>\n",
              "      <td>191</td>\n",
              "      <td>198</td>\n",
              "    </tr>\n",
              "  </tbody>\n",
              "</table>\n",
              "</div>"
            ],
            "text/plain": [
              "Predicted     0    1\n",
              "Actual              \n",
              "0          1289   71\n",
              "1           191  198"
            ]
          },
          "metadata": {
            "tags": []
          },
          "execution_count": 7
        }
      ]
    },
    {
      "cell_type": "code",
      "metadata": {
        "id": "8_Ru2_UsNdNf",
        "colab_type": "code",
        "outputId": "85729f7d-7e5f-47d6-d96a-cc2312be5e5c",
        "colab": {
          "base_uri": "https://localhost:8080/",
          "height": 173
        }
      },
      "source": [
        "print(classification_report(y_test_b, clf_b.predict(X_test_b)))     "
      ],
      "execution_count": 8,
      "outputs": [
        {
          "output_type": "stream",
          "text": [
            "              precision    recall  f1-score   support\n",
            "\n",
            "           0       0.87      0.95      0.91      1360\n",
            "           1       0.74      0.51      0.60       389\n",
            "\n",
            "    accuracy                           0.85      1749\n",
            "   macro avg       0.80      0.73      0.75      1749\n",
            "weighted avg       0.84      0.85      0.84      1749\n",
            "\n"
          ],
          "name": "stdout"
        }
      ]
    },
    {
      "cell_type": "markdown",
      "metadata": {
        "id": "DEiEWmG1CCfQ",
        "colab_type": "text"
      },
      "source": [
        "# under sampling"
      ]
    },
    {
      "cell_type": "code",
      "metadata": {
        "id": "H9lCtZnJEbbY",
        "colab_type": "code",
        "colab": {}
      },
      "source": [
        "zero_cls = df[df.Type == 0]\n",
        "one_cls = df[df.Type == 1]"
      ],
      "execution_count": 0,
      "outputs": []
    },
    {
      "cell_type": "code",
      "metadata": {
        "id": "3IsxvBOnEv_P",
        "colab_type": "code",
        "colab": {}
      },
      "source": [
        "zero_cls = zero_cls.sample(frac=1).reset_index(drop = True)\n",
        "zero_cls = zero_cls.iloc[:one_cls.shape[0],:]"
      ],
      "execution_count": 0,
      "outputs": []
    },
    {
      "cell_type": "code",
      "metadata": {
        "id": "qfyKrTdEFJVI",
        "colab_type": "code",
        "colab": {}
      },
      "source": [
        "under_sampling_df = pd.concat([one_cls, zero_cls]).reset_index(drop=True)\n",
        "under_sampling_df = under_sampling_df.sample(frac=1)"
      ],
      "execution_count": 0,
      "outputs": []
    },
    {
      "cell_type": "code",
      "metadata": {
        "id": "cuT3NmrSFmzn",
        "colab_type": "code",
        "outputId": "27cd1c78-b98c-4fcc-9884-235cf2ccc260",
        "colab": {
          "base_uri": "https://localhost:8080/",
          "height": 69
        }
      },
      "source": [
        "under_sampling_df.Type.value_counts()"
      ],
      "execution_count": 12,
      "outputs": [
        {
          "output_type": "execute_result",
          "data": {
            "text/plain": [
              "1    1295\n",
              "0    1295\n",
              "Name: Type, dtype: int64"
            ]
          },
          "metadata": {
            "tags": []
          },
          "execution_count": 12
        }
      ]
    },
    {
      "cell_type": "code",
      "metadata": {
        "id": "jnxvHvXw8om4",
        "colab_type": "code",
        "colab": {}
      },
      "source": [
        "X = under_sampling_df.iloc[:,4:].reset_index(drop = True)\n",
        "y = under_sampling_df.iloc[:,3].reset_index(drop = True)"
      ],
      "execution_count": 0,
      "outputs": []
    },
    {
      "cell_type": "code",
      "metadata": {
        "id": "iGiRi4aZ942K",
        "colab_type": "code",
        "colab": {}
      },
      "source": [
        "X_train, X_test, y_train, y_test = train_test_split(X, y, test_size=0.3, stratify = y, random_state=2019)"
      ],
      "execution_count": 0,
      "outputs": []
    },
    {
      "cell_type": "markdown",
      "metadata": {
        "id": "VawCceyQB2mh",
        "colab_type": "text"
      },
      "source": [
        "## Logistic regression classifier"
      ]
    },
    {
      "cell_type": "code",
      "metadata": {
        "id": "mmkYDUTK9bky",
        "colab_type": "code",
        "outputId": "81710ba3-cb13-4b86-eac7-8853ef94f6ed",
        "colab": {
          "base_uri": "https://localhost:8080/",
          "height": 193
        }
      },
      "source": [
        "clf = LogisticRegression(solver='liblinear', random_state = 2019)\n",
        "\n",
        "score = cross_val_score(clf, X_train, y_train, cv = 10, scoring='f1')\n",
        "print(f'LogisticRegression cross validation f1 score: {score.mean():.2f}')\n",
        "\n",
        "clf.fit(X_train,y_train)\n",
        "print(f'f1 training score: {f1_score(y_train, clf.predict(X_train)):.2f}')\n",
        "print(f'f1 testing score: {f1_score(y_test, clf.predict(X_test)):.2f}')\n",
        "# print(f'training score: {clf.score(X_train,y_train):.2f}')\n",
        "# print(f'testing score: {clf.score(X_test,y_test):.2f}')\n",
        "# confusion_matrix(clf.predict(X_test),y_test)\n",
        "pd.crosstab(y_test, clf.predict(X_test), rownames=['Actual'], colnames=['Predicted'])"
      ],
      "execution_count": 16,
      "outputs": [
        {
          "output_type": "stream",
          "text": [
            "LogisticRegression cross validation f1 score: 0.87\n",
            "f1 training score: 0.88\n",
            "f1 testing score: 0.86\n"
          ],
          "name": "stdout"
        },
        {
          "output_type": "execute_result",
          "data": {
            "text/html": [
              "<div>\n",
              "<style scoped>\n",
              "    .dataframe tbody tr th:only-of-type {\n",
              "        vertical-align: middle;\n",
              "    }\n",
              "\n",
              "    .dataframe tbody tr th {\n",
              "        vertical-align: top;\n",
              "    }\n",
              "\n",
              "    .dataframe thead th {\n",
              "        text-align: right;\n",
              "    }\n",
              "</style>\n",
              "<table border=\"1\" class=\"dataframe\">\n",
              "  <thead>\n",
              "    <tr style=\"text-align: right;\">\n",
              "      <th>Predicted</th>\n",
              "      <th>0</th>\n",
              "      <th>1</th>\n",
              "    </tr>\n",
              "    <tr>\n",
              "      <th>Actual</th>\n",
              "      <th></th>\n",
              "      <th></th>\n",
              "    </tr>\n",
              "  </thead>\n",
              "  <tbody>\n",
              "    <tr>\n",
              "      <th>0</th>\n",
              "      <td>315</td>\n",
              "      <td>74</td>\n",
              "    </tr>\n",
              "    <tr>\n",
              "      <th>1</th>\n",
              "      <td>39</td>\n",
              "      <td>349</td>\n",
              "    </tr>\n",
              "  </tbody>\n",
              "</table>\n",
              "</div>"
            ],
            "text/plain": [
              "Predicted    0    1\n",
              "Actual             \n",
              "0          315   74\n",
              "1           39  349"
            ]
          },
          "metadata": {
            "tags": []
          },
          "execution_count": 16
        }
      ]
    },
    {
      "cell_type": "code",
      "metadata": {
        "id": "qh3kArLigaWz",
        "colab_type": "code",
        "outputId": "372bb0e1-3a54-4736-d3b3-9dbd3e75f1b6",
        "colab": {
          "base_uri": "https://localhost:8080/",
          "height": 173
        }
      },
      "source": [
        "print(classification_report(y_test, clf.predict(X_test)))"
      ],
      "execution_count": 17,
      "outputs": [
        {
          "output_type": "stream",
          "text": [
            "              precision    recall  f1-score   support\n",
            "\n",
            "           0       0.89      0.81      0.85       389\n",
            "           1       0.83      0.90      0.86       388\n",
            "\n",
            "    accuracy                           0.85       777\n",
            "   macro avg       0.86      0.85      0.85       777\n",
            "weighted avg       0.86      0.85      0.85       777\n",
            "\n"
          ],
          "name": "stdout"
        }
      ]
    },
    {
      "cell_type": "markdown",
      "metadata": {
        "id": "G3bFBUVLBlfQ",
        "colab_type": "text"
      },
      "source": [
        "# with features scaling"
      ]
    },
    {
      "cell_type": "markdown",
      "metadata": {
        "id": "uR7ELSiHBsB5",
        "colab_type": "text"
      },
      "source": [
        "### cross validation"
      ]
    },
    {
      "cell_type": "code",
      "metadata": {
        "id": "mdNiO-96-RCK",
        "colab_type": "code",
        "outputId": "d45ec1be-dd5b-4b6a-d27d-d5a91813da1b",
        "colab": {
          "base_uri": "https://localhost:8080/",
          "height": 35
        }
      },
      "source": [
        "# with features scaling\n",
        "pipe = make_pipeline(StandardScaler(), LogisticRegression(solver='liblinear', random_state = 2019))\n",
        "score = cross_val_score(pipe, X_train, y_train, cv = 10, scoring='f1')\n",
        "print(f'LogisticRegression f1 cross validation score: {score.mean():.2f}')"
      ],
      "execution_count": 18,
      "outputs": [
        {
          "output_type": "stream",
          "text": [
            "LogisticRegression f1 cross validation score: 0.88\n"
          ],
          "name": "stdout"
        }
      ]
    },
    {
      "cell_type": "markdown",
      "metadata": {
        "id": "zbM6uMp7BvIK",
        "colab_type": "text"
      },
      "source": [
        "### training and test score"
      ]
    },
    {
      "cell_type": "code",
      "metadata": {
        "id": "Ewo3ZwQj-sWI",
        "colab_type": "code",
        "outputId": "1f7fe2d0-90c2-4318-d084-7415776ca443",
        "colab": {
          "base_uri": "https://localhost:8080/",
          "height": 175
        }
      },
      "source": [
        "pipe.fit(X_train,y_train)\n",
        "print(f'f1 training score: {f1_score(y_train,pipe.predict(X_train)):.2f}')\n",
        "print(f'f1 testing score: {f1_score(y_test, pipe.predict(X_test)):.2f}')\n",
        "# confusion_matrix(pipe.predict(X_test),y_test)\n",
        "pd.crosstab(y_test, pipe.predict(X_test), rownames=['Actual'], colnames=['Predicted'])"
      ],
      "execution_count": 19,
      "outputs": [
        {
          "output_type": "stream",
          "text": [
            "f1 training score: 0.88\n",
            "f1 testing score: 0.87\n"
          ],
          "name": "stdout"
        },
        {
          "output_type": "execute_result",
          "data": {
            "text/html": [
              "<div>\n",
              "<style scoped>\n",
              "    .dataframe tbody tr th:only-of-type {\n",
              "        vertical-align: middle;\n",
              "    }\n",
              "\n",
              "    .dataframe tbody tr th {\n",
              "        vertical-align: top;\n",
              "    }\n",
              "\n",
              "    .dataframe thead th {\n",
              "        text-align: right;\n",
              "    }\n",
              "</style>\n",
              "<table border=\"1\" class=\"dataframe\">\n",
              "  <thead>\n",
              "    <tr style=\"text-align: right;\">\n",
              "      <th>Predicted</th>\n",
              "      <th>0</th>\n",
              "      <th>1</th>\n",
              "    </tr>\n",
              "    <tr>\n",
              "      <th>Actual</th>\n",
              "      <th></th>\n",
              "      <th></th>\n",
              "    </tr>\n",
              "  </thead>\n",
              "  <tbody>\n",
              "    <tr>\n",
              "      <th>0</th>\n",
              "      <td>329</td>\n",
              "      <td>60</td>\n",
              "    </tr>\n",
              "    <tr>\n",
              "      <th>1</th>\n",
              "      <td>42</td>\n",
              "      <td>346</td>\n",
              "    </tr>\n",
              "  </tbody>\n",
              "</table>\n",
              "</div>"
            ],
            "text/plain": [
              "Predicted    0    1\n",
              "Actual             \n",
              "0          329   60\n",
              "1           42  346"
            ]
          },
          "metadata": {
            "tags": []
          },
          "execution_count": 19
        }
      ]
    },
    {
      "cell_type": "code",
      "metadata": {
        "id": "W9J9RPBSAw4q",
        "colab_type": "code",
        "outputId": "1f65a575-f100-4547-bbe0-d8576c2ac317",
        "colab": {
          "base_uri": "https://localhost:8080/",
          "height": 173
        }
      },
      "source": [
        "print(classification_report(y_test, pipe.predict(X_test)))"
      ],
      "execution_count": 20,
      "outputs": [
        {
          "output_type": "stream",
          "text": [
            "              precision    recall  f1-score   support\n",
            "\n",
            "           0       0.89      0.85      0.87       389\n",
            "           1       0.85      0.89      0.87       388\n",
            "\n",
            "    accuracy                           0.87       777\n",
            "   macro avg       0.87      0.87      0.87       777\n",
            "weighted avg       0.87      0.87      0.87       777\n",
            "\n"
          ],
          "name": "stdout"
        }
      ]
    },
    {
      "cell_type": "markdown",
      "metadata": {
        "id": "eSh746BgH_uR",
        "colab_type": "text"
      },
      "source": [
        "# Stack ensembles"
      ]
    },
    {
      "cell_type": "code",
      "metadata": {
        "id": "hN4MjlDbGoXY",
        "colab_type": "code",
        "outputId": "2727396d-27ce-4ce8-d2f5-51db0b62291d",
        "colab": {
          "base_uri": "https://localhost:8080/",
          "height": 175
        }
      },
      "source": [
        "# For parameters of RF and SVM use from (3) and (4)\n",
        "voting = VotingClassifier([('rf',RandomForestClassifier(n_estimators = 100, random_state = 2019)),\\\n",
        "                          ('svm',SVC(probability=True, random_state = 2019)),\\\n",
        "                           ('lr',LogisticRegression(solver='liblinear', random_state = 2019))],\\\n",
        "                          voting='soft')\n",
        "\n",
        "base_clf = make_pipeline(StandardScaler(),voting)\n",
        "x_train_transform = cross_val_predict(base_clf, X_train, y_train, cv=10, method='transform')\n",
        "meta_clf = LogisticRegression(solver='liblinear', random_state = 2019).fit(x_train_transform,y_train)\n",
        "\n",
        "# transform X_test\n",
        "base_clf_transformer = base_clf.fit(X_train, y_train)\n",
        "X_test_transform = base_clf_transformer.transform(X_test)\n",
        "\n",
        "# compare accuracy between train and test data\n",
        "print(f'f1 training_accuracy: {f1_score(y_train, meta_clf.predict(x_train_transform)):.2f}')\n",
        "print(f'f1 test_accuracy: {f1_score(y_test, meta_clf.predict(X_test_transform)):.2f}')\n",
        "pd.crosstab(y_test, meta_clf.predict(X_test_transform), rownames=['Actual'], colnames=['Predicted'])"
      ],
      "execution_count": 21,
      "outputs": [
        {
          "output_type": "stream",
          "text": [
            "f1 training_accuracy: 0.90\n",
            "f1 test_accuracy: 0.88\n"
          ],
          "name": "stdout"
        },
        {
          "output_type": "execute_result",
          "data": {
            "text/html": [
              "<div>\n",
              "<style scoped>\n",
              "    .dataframe tbody tr th:only-of-type {\n",
              "        vertical-align: middle;\n",
              "    }\n",
              "\n",
              "    .dataframe tbody tr th {\n",
              "        vertical-align: top;\n",
              "    }\n",
              "\n",
              "    .dataframe thead th {\n",
              "        text-align: right;\n",
              "    }\n",
              "</style>\n",
              "<table border=\"1\" class=\"dataframe\">\n",
              "  <thead>\n",
              "    <tr style=\"text-align: right;\">\n",
              "      <th>Predicted</th>\n",
              "      <th>0</th>\n",
              "      <th>1</th>\n",
              "    </tr>\n",
              "    <tr>\n",
              "      <th>Actual</th>\n",
              "      <th></th>\n",
              "      <th></th>\n",
              "    </tr>\n",
              "  </thead>\n",
              "  <tbody>\n",
              "    <tr>\n",
              "      <th>0</th>\n",
              "      <td>347</td>\n",
              "      <td>42</td>\n",
              "    </tr>\n",
              "    <tr>\n",
              "      <th>1</th>\n",
              "      <td>49</td>\n",
              "      <td>339</td>\n",
              "    </tr>\n",
              "  </tbody>\n",
              "</table>\n",
              "</div>"
            ],
            "text/plain": [
              "Predicted    0    1\n",
              "Actual             \n",
              "0          347   42\n",
              "1           49  339"
            ]
          },
          "metadata": {
            "tags": []
          },
          "execution_count": 21
        }
      ]
    },
    {
      "cell_type": "code",
      "metadata": {
        "id": "b6OlkW68pemZ",
        "colab_type": "code",
        "colab": {
          "base_uri": "https://localhost:8080/",
          "height": 35
        },
        "outputId": "252e1279-4531-41c2-a9b3-7ac522a6e234"
      },
      "source": [
        "x_train_transform.shape"
      ],
      "execution_count": 25,
      "outputs": [
        {
          "output_type": "execute_result",
          "data": {
            "text/plain": [
              "(1813, 6)"
            ]
          },
          "metadata": {
            "tags": []
          },
          "execution_count": 25
        }
      ]
    },
    {
      "cell_type": "code",
      "metadata": {
        "id": "7gI6CRkTqHQ7",
        "colab_type": "code",
        "colab": {
          "base_uri": "https://localhost:8080/",
          "height": 52
        },
        "outputId": "3d40d3c5-8fdc-4631-d8da-060152f512e8"
      },
      "source": [
        "x_train_transform[0]"
      ],
      "execution_count": 27,
      "outputs": [
        {
          "output_type": "execute_result",
          "data": {
            "text/plain": [
              "array([0.69      , 0.31      , 0.7755738 , 0.2244262 , 0.68059184,\n",
              "       0.31940816])"
            ]
          },
          "metadata": {
            "tags": []
          },
          "execution_count": 27
        }
      ]
    },
    {
      "cell_type": "code",
      "metadata": {
        "id": "r1XcgX7Zpzi2",
        "colab_type": "code",
        "colab": {
          "base_uri": "https://localhost:8080/",
          "height": 35
        },
        "outputId": "92562c2a-1aa5-4f85-97d1-3318ca7570fc"
      },
      "source": [
        "X_test_transform.shape"
      ],
      "execution_count": 26,
      "outputs": [
        {
          "output_type": "execute_result",
          "data": {
            "text/plain": [
              "(777, 6)"
            ]
          },
          "metadata": {
            "tags": []
          },
          "execution_count": 26
        }
      ]
    },
    {
      "cell_type": "code",
      "metadata": {
        "id": "cNWHm8RhHQ2H",
        "colab_type": "code",
        "outputId": "7fe59ce4-b1c2-4127-c9f3-ede2600de28a",
        "colab": {
          "base_uri": "https://localhost:8080/",
          "height": 173
        }
      },
      "source": [
        "print(classification_report(y_test, meta_clf.predict(X_test_transform)))"
      ],
      "execution_count": 22,
      "outputs": [
        {
          "output_type": "stream",
          "text": [
            "              precision    recall  f1-score   support\n",
            "\n",
            "           0       0.88      0.89      0.88       389\n",
            "           1       0.89      0.87      0.88       388\n",
            "\n",
            "    accuracy                           0.88       777\n",
            "   macro avg       0.88      0.88      0.88       777\n",
            "weighted avg       0.88      0.88      0.88       777\n",
            "\n"
          ],
          "name": "stdout"
        }
      ]
    },
    {
      "cell_type": "code",
      "metadata": {
        "id": "VoA2HNF3Inv_",
        "colab_type": "code",
        "colab": {}
      },
      "source": [
        ""
      ],
      "execution_count": 0,
      "outputs": []
    }
  ]
}